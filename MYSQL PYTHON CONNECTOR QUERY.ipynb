{
 "cells": [
  {
   "cell_type": "code",
   "execution_count": null,
   "metadata": {},
   "outputs": [],
   "source": [
    "!pip install mysql-connector-python"
   ]
  },
  {
   "cell_type": "code",
   "execution_count": null,
   "metadata": {},
   "outputs": [],
   "source": [
    "import mysql.connector as connector\n",
    "connection = connector.connect(user = \"admin\", password = \"admin\", db =\"littlelemondb\")\n"
   ]
  },
  {
   "cell_type": "code",
   "execution_count": null,
   "metadata": {},
   "outputs": [],
   "source": [
    "# Create a cursor object\n",
    "cursor = connection.cursor()\n",
    "\n",
    "# Execute the \"SHOW TABLES\" query\n",
    "show_tables_query = \"SHOW TABLES\"\n",
    "cursor.execute(show_tables_query)\n",
    "\n",
    "# Fetch the results\n",
    "result = cursor.fetchall()\n",
    "\n",
    "# Print the result\n",
    "print(tables)"
   ]
  },
  {
   "cell_type": "code",
   "execution_count": 18,
   "metadata": {},
   "outputs": [
    {
     "name": "stdout",
     "output_type": "stream",
     "text": [
      "('FullName', 'CustEmail', 'CustContactNum', 'CustAddress', 'City', 'State', 'PostalCode', 'BillAmount')\n",
      "('Gussie Dyett', 'gdyett0@oakley.com', '317-576-9548', '2 Granby Street', 'Indianapolis', 'Indiana', '46226', Decimal('147.27'))\n",
      "('Jasmine Savin', 'jsavin1@icq.com', '714-246-3848', '2 Eggendart Drive', 'Anaheim', 'California', '92812', Decimal('164.52'))\n",
      "('Jasper Meade', 'jmeade2@clickbank.net', '412-516-2700', '60 Del Sol Circle', 'Pittsburgh', 'Pennsylvania', '15215', Decimal('80.79'))\n",
      "('Jefferey Ollive', 'jollive3@plala.or.jp', '727-377-1126', '007 Petterle Trail', 'Clearwater', 'Florida', '33763', Decimal('270.39'))\n",
      "('Maryanne McDonagh', 'mmcdonagh5@hhs.gov', '408-562-2128', '8858 Pond Pass', 'San Jose', 'California', '95138', Decimal('296.74'))\n",
      "('Algernon Kerman', 'akerman6@shop-pro.jp', '202-832-6462', '3 Eggendart Place', 'Washington', 'District of Columbia', '20220', Decimal('294.97'))\n",
      "('Mallorie Rickcord', 'mrickcord7@yandex.ru', '626-850-5236', '34 Russell Street', 'Pasadena', 'California', '91103', Decimal('284.63'))\n",
      "('Barr Spivey', 'bspivey8@ibm.com', '650-319-2836', '2635 Corben Pass', 'Mountain View', 'California', '94042', Decimal('238.24'))\n",
      "('Carlota Clamp', 'cclampa@stumbleupon.com', '702-160-0176', '15083 Walton Park', 'Las Vegas', 'Nevada', '89120', Decimal('271.73'))\n",
      "('Mathilda McAirt', 'mmcairtb@flickr.com', '312-118-2332', '8090 Huxley Parkway', 'Chicago', 'Illinois', '60681', Decimal('286.77'))\n",
      "('Dinnie Nestle', 'dnestlec@vistaprint.com', '941-578-8261', '55 7th Drive', 'Sarasota', 'Florida', '34233', Decimal('98.67'))\n",
      "('Callean Stoacley', 'cstoacleyd@pbs.org', '718-199-1115', '7 Welch Point', 'Bronx', 'New York', '10469', Decimal('213.04'))\n",
      "('Madeleine McGaraghan', 'mmcgaraghane@wordpress.org', '859-518-9007', '2161 Westridge Circle', 'Lexington', 'Kentucky', '40586', Decimal('249.20'))\n",
      "('Winona Profit', 'wprofitf@sciencedirect.com', '317-966-6797', '7280 Moulton Terrace', 'Indianapolis', 'Indiana', '46295', Decimal('86.86'))\n",
      "('Peri Shawcross', 'pshawcrossg@cam.ac.uk', '571-764-5208', '82571 Ramsey Drive', 'Merrifield', 'Virginia', '22119', Decimal('266.70'))\n",
      "('Marijn Hillitt', 'mhillitth@walmart.com', '513-734-5672', '349 Graceland Trail', 'Cincinnati', 'Ohio', '45243', Decimal('112.92'))\n",
      "('Johnette Yude', 'jyudei@ifeng.com', '480-741-4779', '8 Heath Crossing', 'Phoenix', 'Arizona', '85005', Decimal('124.49'))\n",
      "('Hanson Boyack', 'hboyackj@webmd.com', '540-943-8869', '153 Namekagon Circle', 'Roanoke', 'Virginia', '24014', Decimal('203.71'))\n",
      "('Saundra Shah', 'sshahk@51.la', '434-481-0873', '1 Maple Wood Parkway', 'Charlottesville', 'Virginia', '22903', Decimal('125.07'))\n",
      "('Oswell Guarin', 'oguarinl@delicious.com', '806-457-4645', '35 Johnson Drive', 'Amarillo', 'Texas', '79176', Decimal('154.24'))\n",
      "('Bartel Craigs', 'bcraigsm@goo.ne.jp', '830-852-0355', '5 Alpine Hill', 'San Antonio', 'Texas', '78260', Decimal('95.98'))\n",
      "('Tandy Reitenbach', 'treitenbachn@smh.com.au', '585-327-7080', '26011 Melby Park', 'Rochester', 'New York', '14624', Decimal('157.18'))\n",
      "('Ulick Chastney', 'uchastneyo@blogspot.com', '813-351-6894', '4642 Tennessee Place', 'Tampa', 'Florida', '33686', Decimal('197.94'))\n",
      "('Nadya Kynder', 'nkynderp@ezinearticles.com', '865-803-9973', '30022 Dunning Pass', 'Knoxville', 'Tennessee', '37919', Decimal('218.17'))\n",
      "('Jodi Fotheringham', 'jfotheringhamq@oakley.com', '915-228-5561', '2 Arkansas Alley', 'El Paso', 'Texas', '79940', Decimal('197.02'))\n",
      "('Janel Lipman', 'jlipmans@admin.ch', '915-723-2222', '18 Kenwood Terrace', 'El Paso', 'Texas', '88569', Decimal('142.02'))\n"
     ]
    }
   ],
   "source": [
    "# Constructing an SQL query to retrieve customer details for orders more than 60\n",
    "cust_details_query = \"\"\"\n",
    "SELECT \n",
    "    CONCAT(c.CustFirstName, ' ', c.CustLastName) AS FullName,\n",
    "    c.CustEmail,\n",
    "    c.CustContactNum,\n",
    "    c.CustAddress,\n",
    "    c.City,\n",
    "    c.State,\n",
    "    c.PostalCode,\n",
    "    o.BillAmount\n",
    "FROM customers c\n",
    "INNER JOIN orders o\n",
    "    ON c.customerID = o.CustomerID\n",
    "WHERE o.BillAmount > 60;\n",
    "\"\"\"\n",
    "\n",
    "# Execute the SQL query using the cursor\n",
    "cursor.execute(cust_details_query)\n",
    "\n",
    "#ftech and print the column names\n",
    "cols = cursor.column_names\n",
    "print(cols)\n",
    "\n",
    "# Fetch all the results\n",
    "results = cursor.fetchall()\n",
    "\n",
    "# Iterate over the results and print each customer's details\n",
    "for result in results:\n",
    "    print(result)"
   ]
  },
  {
   "cell_type": "code",
   "execution_count": null,
   "metadata": {},
   "outputs": [],
   "source": []
  }
 ],
 "metadata": {
  "kernelspec": {
   "display_name": "Python 3",
   "language": "python",
   "name": "python3"
  },
  "language_info": {
   "codemirror_mode": {
    "name": "ipython",
    "version": 3
   },
   "file_extension": ".py",
   "mimetype": "text/x-python",
   "name": "python",
   "nbconvert_exporter": "python",
   "pygments_lexer": "ipython3",
   "version": "3.12.1"
  }
 },
 "nbformat": 4,
 "nbformat_minor": 2
}
